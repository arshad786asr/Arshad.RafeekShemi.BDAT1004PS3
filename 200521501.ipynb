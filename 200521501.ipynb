{
 "cells": [
  {
   "cell_type": "markdown",
   "id": "7dbd67de",
   "metadata": {},
   "source": [
    "# Question 1"
   ]
  },
  {
   "cell_type": "code",
   "execution_count": 1,
   "id": "9bcb0607",
   "metadata": {},
   "outputs": [
    {
     "data": {
      "text/plain": [
       "occupation\n",
       "administrator    38.746835\n",
       "artist           31.392857\n",
       "doctor           43.571429\n",
       "educator         42.010526\n",
       "engineer         36.388060\n",
       "entertainment    29.222222\n",
       "executive        38.718750\n",
       "healthcare       41.562500\n",
       "homemaker        32.571429\n",
       "lawyer           36.750000\n",
       "librarian        40.000000\n",
       "marketing        37.615385\n",
       "none             26.555556\n",
       "other            34.523810\n",
       "programmer       33.121212\n",
       "retired          63.071429\n",
       "salesman         35.666667\n",
       "scientist        35.548387\n",
       "student          22.081633\n",
       "technician       33.148148\n",
       "writer           36.311111\n",
       "Name: age, dtype: float64"
      ]
     },
     "execution_count": 1,
     "metadata": {},
     "output_type": "execute_result"
    }
   ],
   "source": [
    "import pandas as pd\n",
    "users = pd.read_table(r'https://raw.githubusercontent.com/justmarkham/DAT8/master/data/u.user', sep='|', index_col='user_id')\n",
    "useroccupation = users.set_index([\"occupation\"])\n",
    "# step 4 mean age per occupation\n",
    "meanage = useroccupation[\"age\"].groupby('occupation').mean()\n",
    "meanage"
   ]
  },
  {
   "cell_type": "code",
   "execution_count": 2,
   "id": "b6157caa",
   "metadata": {},
   "outputs": [
    {
     "name": "stdout",
     "output_type": "stream",
     "text": [
      "occupation\n",
      "engineer         32.500000\n",
      "technician       26.000000\n",
      "retired          13.000000\n",
      "programmer       10.000000\n",
      "executive         9.666667\n",
      "scientist         9.333333\n",
      "entertainment     8.000000\n",
      "lawyer            5.000000\n",
      "salesman          3.000000\n",
      "educator          2.653846\n",
      "student           2.266667\n",
      "other             1.916667\n",
      "marketing         1.600000\n",
      "writer            1.368421\n",
      "none              1.250000\n",
      "administrator     1.194444\n",
      "artist            1.153846\n",
      "librarian         0.758621\n",
      "healthcare        0.454545\n",
      "homemaker         0.166667\n",
      "doctor                 NaN\n",
      "Name: occupation, dtype: float64\n"
     ]
    }
   ],
   "source": [
    "# step 5 \n",
    "gen_occup = users.groupby('gender')['occupation'].value_counts()\n",
    "sex_ratio = gen_occup['M']/gen_occup['F']\n",
    "print(sex_ratio.sort_values(ascending=False))"
   ]
  },
  {
   "cell_type": "code",
   "execution_count": 4,
   "id": "42ef1fc3",
   "metadata": {},
   "outputs": [
    {
     "name": "stdout",
     "output_type": "stream",
     "text": [
      "occupation\n",
      "administrator    70\n",
      "artist           48\n",
      "doctor           64\n",
      "educator         63\n",
      "engineer         70\n",
      "entertainment    50\n",
      "executive        69\n",
      "healthcare       62\n",
      "homemaker        50\n",
      "lawyer           53\n",
      "librarian        69\n",
      "marketing        55\n",
      "none             55\n",
      "other            64\n",
      "programmer       63\n",
      "retired          73\n",
      "salesman         66\n",
      "scientist        55\n",
      "student          42\n",
      "technician       55\n",
      "writer           60\n",
      "Name: age, dtype: int64 occupation\n",
      "administrator    21\n",
      "artist           19\n",
      "doctor           28\n",
      "educator         23\n",
      "engineer         22\n",
      "entertainment    15\n",
      "executive        22\n",
      "healthcare       22\n",
      "homemaker        20\n",
      "lawyer           21\n",
      "librarian        23\n",
      "marketing        24\n",
      "none             11\n",
      "other            13\n",
      "programmer       20\n",
      "retired          51\n",
      "salesman         18\n",
      "scientist        23\n",
      "student           7\n",
      "technician       21\n",
      "writer           18\n",
      "Name: age, dtype: int64\n"
     ]
    }
   ],
   "source": [
    "# step 6 \n",
    "maximum_age_ = useroccupation[\"age\"].groupby('occupation').max()\n",
    "minimum_age_=  useroccupation[\"age\"].groupby('occupation').min()\n",
    "print(maximum_age_, minimum_age_)"
   ]
  },
  {
   "cell_type": "code",
   "execution_count": 5,
   "id": "c1570fad",
   "metadata": {},
   "outputs": [
    {
     "data": {
      "text/plain": [
       "occupation     gender\n",
       "administrator  F         40.638889\n",
       "               M         37.162791\n",
       "artist         F         30.307692\n",
       "               M         32.333333\n",
       "doctor         M         43.571429\n",
       "educator       F         39.115385\n",
       "               M         43.101449\n",
       "engineer       F         29.500000\n",
       "               M         36.600000\n",
       "entertainment  F         31.000000\n",
       "               M         29.000000\n",
       "executive      F         44.000000\n",
       "               M         38.172414\n",
       "healthcare     F         39.818182\n",
       "               M         45.400000\n",
       "homemaker      F         34.166667\n",
       "               M         23.000000\n",
       "lawyer         F         39.500000\n",
       "               M         36.200000\n",
       "librarian      F         40.000000\n",
       "               M         40.000000\n",
       "marketing      F         37.200000\n",
       "               M         37.875000\n",
       "none           F         36.500000\n",
       "               M         18.600000\n",
       "other          F         35.472222\n",
       "               M         34.028986\n",
       "programmer     F         32.166667\n",
       "               M         33.216667\n",
       "retired        F         70.000000\n",
       "               M         62.538462\n",
       "salesman       F         27.000000\n",
       "               M         38.555556\n",
       "scientist      F         28.333333\n",
       "               M         36.321429\n",
       "student        F         20.750000\n",
       "               M         22.669118\n",
       "technician     F         38.000000\n",
       "               M         32.961538\n",
       "writer         F         37.631579\n",
       "               M         35.346154\n",
       "Name: age, dtype: float64"
      ]
     },
     "execution_count": 5,
     "metadata": {},
     "output_type": "execute_result"
    }
   ],
   "source": [
    "# step 7 \n",
    "users.groupby(['occupation','gender'])['age'].mean()"
   ]
  },
  {
   "cell_type": "code",
   "execution_count": 7,
   "id": "15dbe471",
   "metadata": {},
   "outputs": [
    {
     "name": "stdout",
     "output_type": "stream",
     "text": [
      "occupation\n",
      "administrator    54.430380\n",
      "artist           53.571429\n",
      "doctor                 NaN\n",
      "educator         72.631579\n",
      "engineer         97.014925\n",
      "entertainment    88.888889\n",
      "executive        90.625000\n",
      "healthcare       31.250000\n",
      "homemaker        14.285714\n",
      "lawyer           83.333333\n",
      "librarian        43.137255\n",
      "marketing        61.538462\n",
      "none             55.555556\n",
      "other            65.714286\n",
      "programmer       90.909091\n",
      "retired          92.857143\n",
      "salesman         75.000000\n",
      "scientist        90.322581\n",
      "student          69.387755\n",
      "technician       96.296296\n",
      "writer           57.777778\n",
      "Name: occupation, dtype: float64 occupation\n",
      "administrator    45.569620\n",
      "artist           46.428571\n",
      "doctor                 NaN\n",
      "educator         27.368421\n",
      "engineer          2.985075\n",
      "entertainment    11.111111\n",
      "executive         9.375000\n",
      "healthcare       68.750000\n",
      "homemaker        85.714286\n",
      "lawyer           16.666667\n",
      "librarian        56.862745\n",
      "marketing        38.461538\n",
      "none             44.444444\n",
      "other            34.285714\n",
      "programmer        9.090909\n",
      "retired           7.142857\n",
      "salesman         25.000000\n",
      "scientist         9.677419\n",
      "student          30.612245\n",
      "technician        3.703704\n",
      "writer           42.222222\n",
      "Name: occupation, dtype: float64\n"
     ]
    }
   ],
   "source": [
    " #step 8 \n",
    "gen_occup = users.groupby('gender')['occupation'].value_counts()\n",
    "sexratio_male = gen_occup['M']/(gen_occup['M'] + gen_occup['F'])*100\n",
    "sexratio_female = gen_occup['F']/(gen_occup['M'] + gen_occup['F'])*100\n",
    "print(sexratio_male, sexratio_female)"
   ]
  },
  {
   "cell_type": "markdown",
   "id": "15f9f95f",
   "metadata": {},
   "source": [
    "# Question 2"
   ]
  },
  {
   "cell_type": "code",
   "execution_count": null,
   "id": "42eec4b4",
   "metadata": {},
   "outputs": [],
   "source": [
    "# step1,2,3,4\n",
    "import pandas as pd\n",
    "euro12 = pd.read_csv(r'https://raw.githubusercontent.com/guipsamora/pandas_exercises/master/02_Filtering_%26_Sorting/Euro12/Euro_2012_stats_TEAM.csv')\n",
    "euro12['Goals']"
   ]
  },
  {
   "cell_type": "code",
   "execution_count": null,
   "id": "591f9390",
   "metadata": {},
   "outputs": [],
   "source": [
    "euro12.shape[0]"
   ]
  },
  {
   "cell_type": "code",
   "execution_count": null,
   "id": "a0092ecb",
   "metadata": {},
   "outputs": [],
   "source": [
    "euro12.shape[1]"
   ]
  },
  {
   "cell_type": "code",
   "execution_count": null,
   "id": "32a39480",
   "metadata": {},
   "outputs": [],
   "source": [
    "discipline = euro12[['Team', 'Yellow Cards', 'Red Cards']]\n",
    "discipline"
   ]
  },
  {
   "cell_type": "code",
   "execution_count": null,
   "id": "61ff7916",
   "metadata": {},
   "outputs": [],
   "source": [
    "cards = euro12.sort_values(by=['Red Cards', 'Yellow Cards'])\n",
    "cards"
   ]
  },
  {
   "cell_type": "code",
   "execution_count": null,
   "id": "5208e630",
   "metadata": {},
   "outputs": [],
   "source": [
    "euro12['Yellow Cards'].mean()"
   ]
  },
  {
   "cell_type": "code",
   "execution_count": null,
   "id": "41db5a1c",
   "metadata": {},
   "outputs": [],
   "source": [
    "euro12[euro12.Goals > 6] "
   ]
  },
  {
   "cell_type": "code",
   "execution_count": null,
   "id": "32f18de9",
   "metadata": {},
   "outputs": [],
   "source": [
    "euro12[euro12.Team.str.startswith('G')]"
   ]
  },
  {
   "cell_type": "code",
   "execution_count": null,
   "id": "562f706a",
   "metadata": {},
   "outputs": [],
   "source": [
    "euro12.iloc[:, :7]"
   ]
  },
  {
   "cell_type": "code",
   "execution_count": null,
   "id": "c2c8dd8d",
   "metadata": {},
   "outputs": [],
   "source": [
    "euro12.iloc[:, :-3]"
   ]
  },
  {
   "cell_type": "code",
   "execution_count": null,
   "id": "da1ffc61",
   "metadata": {},
   "outputs": [],
   "source": [
    "df = euro12[(euro12.Team == \"England\") | (euro12.Team == \"Italy\") | (euro12.Team == \"Russia\")]\n",
    "df[[\"Team\",\"Shooting Accuracy\"]]"
   ]
  },
  {
   "cell_type": "markdown",
   "id": "56064aec",
   "metadata": {},
   "source": [
    "# Question 3"
   ]
  },
  {
   "cell_type": "code",
   "execution_count": 1,
   "id": "c9db6829",
   "metadata": {},
   "outputs": [],
   "source": [
    "# Step 1. Import the necessary libraries\n",
    "import pandas as pd"
   ]
  },
  {
   "cell_type": "code",
   "execution_count": 2,
   "id": "2b4949e2",
   "metadata": {},
   "outputs": [
    {
     "data": {
      "text/plain": [
       "0     4\n",
       "1     4\n",
       "2     3\n",
       "3     1\n",
       "4     1\n",
       "     ..\n",
       "95    3\n",
       "96    3\n",
       "97    3\n",
       "98    1\n",
       "99    4\n",
       "Length: 100, dtype: int32"
      ]
     },
     "execution_count": 2,
     "metadata": {},
     "output_type": "execute_result"
    }
   ],
   "source": [
    "import numpy as np\n",
    "series1 = pd.Series(np.random.randint(1, high=5, size=100, dtype='l'))\n",
    "series1"
   ]
  },
  {
   "cell_type": "code",
   "execution_count": 3,
   "id": "248335f0",
   "metadata": {},
   "outputs": [
    {
     "data": {
      "text/plain": [
       "0     1\n",
       "1     1\n",
       "2     3\n",
       "3     2\n",
       "4     1\n",
       "     ..\n",
       "95    3\n",
       "96    1\n",
       "97    3\n",
       "98    2\n",
       "99    3\n",
       "Length: 100, dtype: int32"
      ]
     },
     "execution_count": 3,
     "metadata": {},
     "output_type": "execute_result"
    }
   ],
   "source": [
    "series2 = pd.Series(np.random.randint(1, high=4, size=100, dtype='l'))\n",
    "series2"
   ]
  },
  {
   "cell_type": "code",
   "execution_count": 4,
   "id": "14465222",
   "metadata": {},
   "outputs": [
    {
     "data": {
      "text/plain": [
       "0     24854\n",
       "1     14515\n",
       "2     15591\n",
       "3     18363\n",
       "4     12823\n",
       "      ...  \n",
       "95    28683\n",
       "96    14166\n",
       "97    19842\n",
       "98    16227\n",
       "99    21229\n",
       "Length: 100, dtype: int32"
      ]
     },
     "execution_count": 4,
     "metadata": {},
     "output_type": "execute_result"
    }
   ],
   "source": [
    "series3 = pd.Series(np.random.randint(10000, high=30001, size=100, dtype='l'))\n",
    "series3"
   ]
  },
  {
   "cell_type": "code",
   "execution_count": 5,
   "id": "61a298d3",
   "metadata": {},
   "outputs": [
    {
     "data": {
      "text/html": [
       "<div>\n",
       "<style scoped>\n",
       "    .dataframe tbody tr th:only-of-type {\n",
       "        vertical-align: middle;\n",
       "    }\n",
       "\n",
       "    .dataframe tbody tr th {\n",
       "        vertical-align: top;\n",
       "    }\n",
       "\n",
       "    .dataframe thead th {\n",
       "        text-align: right;\n",
       "    }\n",
       "</style>\n",
       "<table border=\"1\" class=\"dataframe\">\n",
       "  <thead>\n",
       "    <tr style=\"text-align: right;\">\n",
       "      <th></th>\n",
       "      <th>series1</th>\n",
       "      <th>series2</th>\n",
       "      <th>series3</th>\n",
       "    </tr>\n",
       "  </thead>\n",
       "  <tbody>\n",
       "    <tr>\n",
       "      <th>0</th>\n",
       "      <td>4</td>\n",
       "      <td>1</td>\n",
       "      <td>24854</td>\n",
       "    </tr>\n",
       "    <tr>\n",
       "      <th>1</th>\n",
       "      <td>4</td>\n",
       "      <td>1</td>\n",
       "      <td>14515</td>\n",
       "    </tr>\n",
       "    <tr>\n",
       "      <th>2</th>\n",
       "      <td>3</td>\n",
       "      <td>3</td>\n",
       "      <td>15591</td>\n",
       "    </tr>\n",
       "    <tr>\n",
       "      <th>3</th>\n",
       "      <td>1</td>\n",
       "      <td>2</td>\n",
       "      <td>18363</td>\n",
       "    </tr>\n",
       "    <tr>\n",
       "      <th>4</th>\n",
       "      <td>1</td>\n",
       "      <td>1</td>\n",
       "      <td>12823</td>\n",
       "    </tr>\n",
       "    <tr>\n",
       "      <th>...</th>\n",
       "      <td>...</td>\n",
       "      <td>...</td>\n",
       "      <td>...</td>\n",
       "    </tr>\n",
       "    <tr>\n",
       "      <th>95</th>\n",
       "      <td>3</td>\n",
       "      <td>3</td>\n",
       "      <td>28683</td>\n",
       "    </tr>\n",
       "    <tr>\n",
       "      <th>96</th>\n",
       "      <td>3</td>\n",
       "      <td>1</td>\n",
       "      <td>14166</td>\n",
       "    </tr>\n",
       "    <tr>\n",
       "      <th>97</th>\n",
       "      <td>3</td>\n",
       "      <td>3</td>\n",
       "      <td>19842</td>\n",
       "    </tr>\n",
       "    <tr>\n",
       "      <th>98</th>\n",
       "      <td>1</td>\n",
       "      <td>2</td>\n",
       "      <td>16227</td>\n",
       "    </tr>\n",
       "    <tr>\n",
       "      <th>99</th>\n",
       "      <td>4</td>\n",
       "      <td>3</td>\n",
       "      <td>21229</td>\n",
       "    </tr>\n",
       "  </tbody>\n",
       "</table>\n",
       "<p>100 rows × 3 columns</p>\n",
       "</div>"
      ],
      "text/plain": [
       "    series1  series2  series3\n",
       "0         4        1    24854\n",
       "1         4        1    14515\n",
       "2         3        3    15591\n",
       "3         1        2    18363\n",
       "4         1        1    12823\n",
       "..      ...      ...      ...\n",
       "95        3        3    28683\n",
       "96        3        1    14166\n",
       "97        3        3    19842\n",
       "98        1        2    16227\n",
       "99        4        3    21229\n",
       "\n",
       "[100 rows x 3 columns]"
      ]
     },
     "execution_count": 5,
     "metadata": {},
     "output_type": "execute_result"
    }
   ],
   "source": [
    "dataFrame = pd.DataFrame({'series1':series1,'series2':series2,'series3':series3})\n",
    "dataFrame"
   ]
  },
  {
   "cell_type": "code",
   "execution_count": 6,
   "id": "37f65653",
   "metadata": {},
   "outputs": [
    {
     "data": {
      "text/html": [
       "<div>\n",
       "<style scoped>\n",
       "    .dataframe tbody tr th:only-of-type {\n",
       "        vertical-align: middle;\n",
       "    }\n",
       "\n",
       "    .dataframe tbody tr th {\n",
       "        vertical-align: top;\n",
       "    }\n",
       "\n",
       "    .dataframe thead th {\n",
       "        text-align: right;\n",
       "    }\n",
       "</style>\n",
       "<table border=\"1\" class=\"dataframe\">\n",
       "  <thead>\n",
       "    <tr style=\"text-align: right;\">\n",
       "      <th></th>\n",
       "      <th>beds</th>\n",
       "      <th>bathrs</th>\n",
       "      <th>price_sqr_meter</th>\n",
       "    </tr>\n",
       "  </thead>\n",
       "  <tbody>\n",
       "    <tr>\n",
       "      <th>0</th>\n",
       "      <td>4</td>\n",
       "      <td>1</td>\n",
       "      <td>24854</td>\n",
       "    </tr>\n",
       "    <tr>\n",
       "      <th>1</th>\n",
       "      <td>4</td>\n",
       "      <td>1</td>\n",
       "      <td>14515</td>\n",
       "    </tr>\n",
       "    <tr>\n",
       "      <th>2</th>\n",
       "      <td>3</td>\n",
       "      <td>3</td>\n",
       "      <td>15591</td>\n",
       "    </tr>\n",
       "    <tr>\n",
       "      <th>3</th>\n",
       "      <td>1</td>\n",
       "      <td>2</td>\n",
       "      <td>18363</td>\n",
       "    </tr>\n",
       "    <tr>\n",
       "      <th>4</th>\n",
       "      <td>1</td>\n",
       "      <td>1</td>\n",
       "      <td>12823</td>\n",
       "    </tr>\n",
       "    <tr>\n",
       "      <th>...</th>\n",
       "      <td>...</td>\n",
       "      <td>...</td>\n",
       "      <td>...</td>\n",
       "    </tr>\n",
       "    <tr>\n",
       "      <th>95</th>\n",
       "      <td>3</td>\n",
       "      <td>3</td>\n",
       "      <td>28683</td>\n",
       "    </tr>\n",
       "    <tr>\n",
       "      <th>96</th>\n",
       "      <td>3</td>\n",
       "      <td>1</td>\n",
       "      <td>14166</td>\n",
       "    </tr>\n",
       "    <tr>\n",
       "      <th>97</th>\n",
       "      <td>3</td>\n",
       "      <td>3</td>\n",
       "      <td>19842</td>\n",
       "    </tr>\n",
       "    <tr>\n",
       "      <th>98</th>\n",
       "      <td>1</td>\n",
       "      <td>2</td>\n",
       "      <td>16227</td>\n",
       "    </tr>\n",
       "    <tr>\n",
       "      <th>99</th>\n",
       "      <td>4</td>\n",
       "      <td>3</td>\n",
       "      <td>21229</td>\n",
       "    </tr>\n",
       "  </tbody>\n",
       "</table>\n",
       "<p>100 rows × 3 columns</p>\n",
       "</div>"
      ],
      "text/plain": [
       "    beds  bathrs  price_sqr_meter\n",
       "0      4       1            24854\n",
       "1      4       1            14515\n",
       "2      3       3            15591\n",
       "3      1       2            18363\n",
       "4      1       1            12823\n",
       "..   ...     ...              ...\n",
       "95     3       3            28683\n",
       "96     3       1            14166\n",
       "97     3       3            19842\n",
       "98     1       2            16227\n",
       "99     4       3            21229\n",
       "\n",
       "[100 rows x 3 columns]"
      ]
     },
     "execution_count": 6,
     "metadata": {},
     "output_type": "execute_result"
    }
   ],
   "source": [
    "rename_column=dataFrame.rename(columns={'series1':'beds','series2':'bathrs', 'series3':'price_sqr_meter'})\n",
    "rename_column"
   ]
  },
  {
   "cell_type": "code",
   "execution_count": 7,
   "id": "9836b57d",
   "metadata": {},
   "outputs": [
    {
     "name": "stderr",
     "output_type": "stream",
     "text": [
      "C:\\Users\\arsha\\AppData\\Local\\Temp\\ipykernel_19112\\1971201377.py:1: FutureWarning: The series.append method is deprecated and will be removed from pandas in a future version. Use pandas.concat instead.\n",
      "  bigcolumn = rename_column['beds'].append(rename_column['bathrs'].append(rename_column['price_sqr_meter']))\n"
     ]
    },
    {
     "data": {
      "text/plain": [
       "0         4\n",
       "1         4\n",
       "2         3\n",
       "3         1\n",
       "4         1\n",
       "      ...  \n",
       "95    28683\n",
       "96    14166\n",
       "97    19842\n",
       "98    16227\n",
       "99    21229\n",
       "Length: 300, dtype: int32"
      ]
     },
     "execution_count": 7,
     "metadata": {},
     "output_type": "execute_result"
    }
   ],
   "source": [
    "bigcolumn = rename_column['beds'].append(rename_column['bathrs'].append(rename_column['price_sqr_meter']))\n",
    "bigcolumn"
   ]
  },
  {
   "cell_type": "code",
   "execution_count": 8,
   "id": "df61ffef",
   "metadata": {},
   "outputs": [
    {
     "name": "stdout",
     "output_type": "stream",
     "text": [
      "True\n"
     ]
    }
   ],
   "source": [
    "if (max(bigcolumn.index)==99):\n",
    "    print('True')\n",
    "else:\n",
    "    print('False')"
   ]
  },
  {
   "cell_type": "code",
   "execution_count": 9,
   "id": "dab55288",
   "metadata": {},
   "outputs": [
    {
     "data": {
      "text/plain": [
       "0          4\n",
       "1          4\n",
       "2          3\n",
       "3          1\n",
       "4          1\n",
       "       ...  \n",
       "295    28683\n",
       "296    14166\n",
       "297    19842\n",
       "298    16227\n",
       "299    21229\n",
       "Length: 300, dtype: int32"
      ]
     },
     "execution_count": 9,
     "metadata": {},
     "output_type": "execute_result"
    }
   ],
   "source": [
    "bigcolumn.reset_index(drop=True)"
   ]
  },
  {
   "cell_type": "code",
   "execution_count": null,
   "id": "382f763b",
   "metadata": {},
   "outputs": [],
   "source": []
  },
  {
   "cell_type": "markdown",
   "id": "d49fc7e4",
   "metadata": {},
   "source": [
    "# Question 4"
   ]
  },
  {
   "cell_type": "code",
   "execution_count": 12,
   "id": "3d00bd79",
   "metadata": {},
   "outputs": [],
   "source": [
    "import numpy as np\n",
    "import pandas as pd"
   ]
  },
  {
   "cell_type": "code",
   "execution_count": 15,
   "id": "55033f95",
   "metadata": {
    "scrolled": true
   },
   "outputs": [
    {
     "data": {
      "text/html": [
       "<div>\n",
       "<style scoped>\n",
       "    .dataframe tbody tr th:only-of-type {\n",
       "        vertical-align: middle;\n",
       "    }\n",
       "\n",
       "    .dataframe tbody tr th {\n",
       "        vertical-align: top;\n",
       "    }\n",
       "\n",
       "    .dataframe thead th {\n",
       "        text-align: right;\n",
       "    }\n",
       "</style>\n",
       "<table border=\"1\" class=\"dataframe\">\n",
       "  <thead>\n",
       "    <tr style=\"text-align: right;\">\n",
       "      <th></th>\n",
       "      <th>date</th>\n",
       "      <th>RPT</th>\n",
       "      <th>VAL</th>\n",
       "      <th>ROS</th>\n",
       "      <th>KIL</th>\n",
       "      <th>SHA</th>\n",
       "      <th>BIR</th>\n",
       "      <th>DUB</th>\n",
       "      <th>CLA</th>\n",
       "      <th>MUL</th>\n",
       "      <th>CLO</th>\n",
       "      <th>BEL</th>\n",
       "      <th>MAL</th>\n",
       "    </tr>\n",
       "  </thead>\n",
       "  <tbody>\n",
       "    <tr>\n",
       "      <th>0</th>\n",
       "      <td>1961-01-01</td>\n",
       "      <td>15.04</td>\n",
       "      <td>14.96</td>\n",
       "      <td>13.17</td>\n",
       "      <td>9.29</td>\n",
       "      <td>NaN</td>\n",
       "      <td>9.87</td>\n",
       "      <td>13.67</td>\n",
       "      <td>10.25</td>\n",
       "      <td>10.83</td>\n",
       "      <td>12.58</td>\n",
       "      <td>18.50</td>\n",
       "      <td>15.04</td>\n",
       "    </tr>\n",
       "    <tr>\n",
       "      <th>1</th>\n",
       "      <td>1961-01-02</td>\n",
       "      <td>14.71</td>\n",
       "      <td>NaN</td>\n",
       "      <td>10.83</td>\n",
       "      <td>6.50</td>\n",
       "      <td>12.62</td>\n",
       "      <td>7.67</td>\n",
       "      <td>11.50</td>\n",
       "      <td>10.04</td>\n",
       "      <td>9.79</td>\n",
       "      <td>9.67</td>\n",
       "      <td>17.54</td>\n",
       "      <td>13.83</td>\n",
       "    </tr>\n",
       "    <tr>\n",
       "      <th>2</th>\n",
       "      <td>1961-01-03</td>\n",
       "      <td>18.50</td>\n",
       "      <td>16.88</td>\n",
       "      <td>12.33</td>\n",
       "      <td>10.13</td>\n",
       "      <td>11.17</td>\n",
       "      <td>6.17</td>\n",
       "      <td>11.25</td>\n",
       "      <td>NaN</td>\n",
       "      <td>8.50</td>\n",
       "      <td>7.67</td>\n",
       "      <td>12.75</td>\n",
       "      <td>12.71</td>\n",
       "    </tr>\n",
       "    <tr>\n",
       "      <th>3</th>\n",
       "      <td>1961-01-04</td>\n",
       "      <td>10.58</td>\n",
       "      <td>6.63</td>\n",
       "      <td>11.75</td>\n",
       "      <td>4.58</td>\n",
       "      <td>4.54</td>\n",
       "      <td>2.88</td>\n",
       "      <td>8.63</td>\n",
       "      <td>1.79</td>\n",
       "      <td>5.83</td>\n",
       "      <td>5.88</td>\n",
       "      <td>5.46</td>\n",
       "      <td>10.88</td>\n",
       "    </tr>\n",
       "    <tr>\n",
       "      <th>4</th>\n",
       "      <td>1961-01-05</td>\n",
       "      <td>13.33</td>\n",
       "      <td>13.25</td>\n",
       "      <td>11.42</td>\n",
       "      <td>6.17</td>\n",
       "      <td>10.71</td>\n",
       "      <td>8.21</td>\n",
       "      <td>11.92</td>\n",
       "      <td>6.54</td>\n",
       "      <td>10.92</td>\n",
       "      <td>10.34</td>\n",
       "      <td>12.92</td>\n",
       "      <td>11.83</td>\n",
       "    </tr>\n",
       "  </tbody>\n",
       "</table>\n",
       "</div>"
      ],
      "text/plain": [
       "        date    RPT    VAL    ROS    KIL    SHA   BIR    DUB    CLA    MUL  \\\n",
       "0 1961-01-01  15.04  14.96  13.17   9.29    NaN  9.87  13.67  10.25  10.83   \n",
       "1 1961-01-02  14.71    NaN  10.83   6.50  12.62  7.67  11.50  10.04   9.79   \n",
       "2 1961-01-03  18.50  16.88  12.33  10.13  11.17  6.17  11.25    NaN   8.50   \n",
       "3 1961-01-04  10.58   6.63  11.75   4.58   4.54  2.88   8.63   1.79   5.83   \n",
       "4 1961-01-05  13.33  13.25  11.42   6.17  10.71  8.21  11.92   6.54  10.92   \n",
       "\n",
       "     CLO    BEL    MAL  \n",
       "0  12.58  18.50  15.04  \n",
       "1   9.67  17.54  13.83  \n",
       "2   7.67  12.75  12.71  \n",
       "3   5.88   5.46  10.88  \n",
       "4  10.34  12.92  11.83  "
      ]
     },
     "execution_count": 15,
     "metadata": {},
     "output_type": "execute_result"
    }
   ],
   "source": [
    "import os\n",
    "data = pd.read_csv ('wind.txt', sep = '\\s+')\n",
    "data.rename(columns = {'Yr':'year', 'Mo':'month', 'Dy':'day'},inplace =True)\n",
    "data['year'] = ['19%i' % i for i in data['year']]\n",
    "combinedate = pd.to_datetime(data[['year','month','day']])\n",
    "data.insert(loc = 0, column = 'date', value = combinedate)\n",
    "data = data.drop(columns = ['year','month','day'])\n",
    "data.head()"
   ]
  },
  {
   "cell_type": "code",
   "execution_count": 47,
   "id": "530f881f",
   "metadata": {},
   "outputs": [
    {
     "data": {
      "text/plain": [
       "date    datetime64[ns]\n",
       "RPT            float64\n",
       "VAL            float64\n",
       "ROS            float64\n",
       "KIL            float64\n",
       "SHA            float64\n",
       "BIR            float64\n",
       "DUB            float64\n",
       "CLA            float64\n",
       "MUL            float64\n",
       "CLO            float64\n",
       "BEL            float64\n",
       "MAL            float64\n",
       "dtype: object"
      ]
     },
     "execution_count": 47,
     "metadata": {},
     "output_type": "execute_result"
    }
   ],
   "source": [
    "data.dtypes"
   ]
  },
  {
   "cell_type": "code",
   "execution_count": 18,
   "id": "590dc27f",
   "metadata": {},
   "outputs": [
    {
     "data": {
      "text/plain": [
       "date    0\n",
       "RPT     6\n",
       "VAL     3\n",
       "ROS     2\n",
       "KIL     5\n",
       "SHA     2\n",
       "BIR     0\n",
       "DUB     3\n",
       "CLA     2\n",
       "MUL     3\n",
       "CLO     1\n",
       "BEL     0\n",
       "MAL     4\n",
       "dtype: int64"
      ]
     },
     "execution_count": 18,
     "metadata": {},
     "output_type": "execute_result"
    }
   ],
   "source": [
    "\n",
    "data.isnull().sum()"
   ]
  },
  {
   "cell_type": "code",
   "execution_count": 19,
   "id": "4aa4d812",
   "metadata": {},
   "outputs": [
    {
     "data": {
      "text/plain": [
       "date    0\n",
       "RPT     0\n",
       "VAL     0\n",
       "ROS     0\n",
       "KIL     0\n",
       "SHA     0\n",
       "BIR     0\n",
       "DUB     0\n",
       "CLA     0\n",
       "MUL     0\n",
       "CLO     0\n",
       "BEL     0\n",
       "MAL     0\n",
       "dtype: int64"
      ]
     },
     "execution_count": 19,
     "metadata": {},
     "output_type": "execute_result"
    }
   ],
   "source": [
    "data = data.dropna()\n",
    "data.isnull().sum()"
   ]
  },
  {
   "cell_type": "code",
   "execution_count": 20,
   "id": "0f72e2c1",
   "metadata": {},
   "outputs": [
    {
     "data": {
      "text/plain": [
       "date    6546\n",
       "RPT     6546\n",
       "VAL     6546\n",
       "ROS     6546\n",
       "KIL     6546\n",
       "SHA     6546\n",
       "BIR     6546\n",
       "DUB     6546\n",
       "CLA     6546\n",
       "MUL     6546\n",
       "CLO     6546\n",
       "BEL     6546\n",
       "MAL     6546\n",
       "dtype: int64"
      ]
     },
     "execution_count": 20,
     "metadata": {},
     "output_type": "execute_result"
    }
   ],
   "source": [
    "data.count()"
   ]
  },
  {
   "cell_type": "code",
   "execution_count": 48,
   "id": "ff51c060",
   "metadata": {},
   "outputs": [
    {
     "data": {
      "text/plain": [
       "RPT    12.359979\n",
       "VAL    10.640267\n",
       "ROS    11.656396\n",
       "KIL     6.298587\n",
       "SHA    10.448923\n",
       "BIR     7.085066\n",
       "DUB     9.793006\n",
       "CLA     8.486601\n",
       "MUL     8.490257\n",
       "CLO     8.696705\n",
       "BEL    13.110668\n",
       "MAL    15.603129\n",
       "dtype: float64"
      ]
     },
     "execution_count": 48,
     "metadata": {},
     "output_type": "execute_result"
    }
   ],
   "source": [
    "wind = data.drop(columns = ['date'])\n",
    "mean1 = pd.Series(wind.mean())\n",
    "mean1"
   ]
  },
  {
   "cell_type": "code",
   "execution_count": 22,
   "id": "d0bbefbe",
   "metadata": {},
   "outputs": [
    {
     "data": {
      "text/html": [
       "<div>\n",
       "<style scoped>\n",
       "    .dataframe tbody tr th:only-of-type {\n",
       "        vertical-align: middle;\n",
       "    }\n",
       "\n",
       "    .dataframe tbody tr th {\n",
       "        vertical-align: top;\n",
       "    }\n",
       "\n",
       "    .dataframe thead th {\n",
       "        text-align: right;\n",
       "    }\n",
       "</style>\n",
       "<table border=\"1\" class=\"dataframe\">\n",
       "  <thead>\n",
       "    <tr style=\"text-align: right;\">\n",
       "      <th></th>\n",
       "      <th>max</th>\n",
       "      <th>min</th>\n",
       "      <th>mean</th>\n",
       "      <th>std</th>\n",
       "    </tr>\n",
       "  </thead>\n",
       "  <tbody>\n",
       "    <tr>\n",
       "      <th>RPT</th>\n",
       "      <td>35.80</td>\n",
       "      <td>0.67</td>\n",
       "      <td>12.359979</td>\n",
       "      <td>5.618805</td>\n",
       "    </tr>\n",
       "    <tr>\n",
       "      <th>VAL</th>\n",
       "      <td>33.37</td>\n",
       "      <td>0.21</td>\n",
       "      <td>10.640267</td>\n",
       "      <td>5.268695</td>\n",
       "    </tr>\n",
       "    <tr>\n",
       "      <th>ROS</th>\n",
       "      <td>33.84</td>\n",
       "      <td>1.50</td>\n",
       "      <td>11.656396</td>\n",
       "      <td>5.007805</td>\n",
       "    </tr>\n",
       "    <tr>\n",
       "      <th>KIL</th>\n",
       "      <td>28.46</td>\n",
       "      <td>0.00</td>\n",
       "      <td>6.298587</td>\n",
       "      <td>3.600942</td>\n",
       "    </tr>\n",
       "    <tr>\n",
       "      <th>SHA</th>\n",
       "      <td>37.54</td>\n",
       "      <td>0.13</td>\n",
       "      <td>10.448923</td>\n",
       "      <td>4.933988</td>\n",
       "    </tr>\n",
       "  </tbody>\n",
       "</table>\n",
       "</div>"
      ],
      "text/plain": [
       "       max   min       mean       std\n",
       "RPT  35.80  0.67  12.359979  5.618805\n",
       "VAL  33.37  0.21  10.640267  5.268695\n",
       "ROS  33.84  1.50  11.656396  5.007805\n",
       "KIL  28.46  0.00   6.298587  3.600942\n",
       "SHA  37.54  0.13  10.448923  4.933988"
      ]
     },
     "execution_count": 22,
     "metadata": {},
     "output_type": "execute_result"
    }
   ],
   "source": [
    "maximumspeed = pd.Series(wind.max())\n",
    "minspeed = pd.Series(wind.min())\n",
    "stdspeed = pd.Series(wind.std())\n",
    "loc_stats = pd.DataFrame({'max':maximumspeed, 'min':minspeed, 'mean':mean1, 'std':stdspeed})\n",
    "loc_stats.head()"
   ]
  },
  {
   "cell_type": "code",
   "execution_count": 23,
   "id": "39c73291",
   "metadata": {},
   "outputs": [
    {
     "data": {
      "text/html": [
       "<div>\n",
       "<style scoped>\n",
       "    .dataframe tbody tr th:only-of-type {\n",
       "        vertical-align: middle;\n",
       "    }\n",
       "\n",
       "    .dataframe tbody tr th {\n",
       "        vertical-align: top;\n",
       "    }\n",
       "\n",
       "    .dataframe thead th {\n",
       "        text-align: right;\n",
       "    }\n",
       "</style>\n",
       "<table border=\"1\" class=\"dataframe\">\n",
       "  <thead>\n",
       "    <tr style=\"text-align: right;\">\n",
       "      <th></th>\n",
       "      <th>RPT</th>\n",
       "      <th>VAL</th>\n",
       "      <th>ROS</th>\n",
       "      <th>KIL</th>\n",
       "      <th>SHA</th>\n",
       "      <th>BIR</th>\n",
       "      <th>DUB</th>\n",
       "      <th>CLA</th>\n",
       "      <th>MUL</th>\n",
       "      <th>CLO</th>\n",
       "      <th>BEL</th>\n",
       "      <th>MAL</th>\n",
       "    </tr>\n",
       "    <tr>\n",
       "      <th>date</th>\n",
       "      <th></th>\n",
       "      <th></th>\n",
       "      <th></th>\n",
       "      <th></th>\n",
       "      <th></th>\n",
       "      <th></th>\n",
       "      <th></th>\n",
       "      <th></th>\n",
       "      <th></th>\n",
       "      <th></th>\n",
       "      <th></th>\n",
       "      <th></th>\n",
       "    </tr>\n",
       "  </thead>\n",
       "  <tbody>\n",
       "    <tr>\n",
       "      <th>1961</th>\n",
       "      <td>4150.58</td>\n",
       "      <td>3470.45</td>\n",
       "      <td>3836.17</td>\n",
       "      <td>2327.79</td>\n",
       "      <td>3652.53</td>\n",
       "      <td>2589.83</td>\n",
       "      <td>3275.31</td>\n",
       "      <td>2952.87</td>\n",
       "      <td>2914.46</td>\n",
       "      <td>3298.16</td>\n",
       "      <td>4512.33</td>\n",
       "      <td>4619.65</td>\n",
       "    </tr>\n",
       "    <tr>\n",
       "      <th>1962</th>\n",
       "      <td>4443.47</td>\n",
       "      <td>3674.61</td>\n",
       "      <td>4240.60</td>\n",
       "      <td>2521.09</td>\n",
       "      <td>3870.60</td>\n",
       "      <td>2684.35</td>\n",
       "      <td>3997.61</td>\n",
       "      <td>3196.39</td>\n",
       "      <td>3017.47</td>\n",
       "      <td>3509.16</td>\n",
       "      <td>4700.82</td>\n",
       "      <td>5198.84</td>\n",
       "    </tr>\n",
       "    <tr>\n",
       "      <th>1963</th>\n",
       "      <td>4676.91</td>\n",
       "      <td>3955.50</td>\n",
       "      <td>4577.52</td>\n",
       "      <td>2675.47</td>\n",
       "      <td>4279.30</td>\n",
       "      <td>3078.67</td>\n",
       "      <td>4042.63</td>\n",
       "      <td>3772.84</td>\n",
       "      <td>3249.81</td>\n",
       "      <td>3731.92</td>\n",
       "      <td>4978.19</td>\n",
       "      <td>5474.64</td>\n",
       "    </tr>\n",
       "    <tr>\n",
       "      <th>1964</th>\n",
       "      <td>4525.10</td>\n",
       "      <td>3996.78</td>\n",
       "      <td>4430.20</td>\n",
       "      <td>2484.33</td>\n",
       "      <td>4192.34</td>\n",
       "      <td>2770.94</td>\n",
       "      <td>3754.85</td>\n",
       "      <td>3465.05</td>\n",
       "      <td>2850.78</td>\n",
       "      <td>3736.11</td>\n",
       "      <td>5029.04</td>\n",
       "      <td>5457.17</td>\n",
       "    </tr>\n",
       "    <tr>\n",
       "      <th>1965</th>\n",
       "      <td>4544.75</td>\n",
       "      <td>4042.57</td>\n",
       "      <td>4324.80</td>\n",
       "      <td>2503.34</td>\n",
       "      <td>4024.05</td>\n",
       "      <td>2729.51</td>\n",
       "      <td>3875.83</td>\n",
       "      <td>3241.17</td>\n",
       "      <td>2886.21</td>\n",
       "      <td>3620.10</td>\n",
       "      <td>4731.95</td>\n",
       "      <td>5690.95</td>\n",
       "    </tr>\n",
       "    <tr>\n",
       "      <th>1966</th>\n",
       "      <td>4913.62</td>\n",
       "      <td>4218.38</td>\n",
       "      <td>4387.53</td>\n",
       "      <td>2681.19</td>\n",
       "      <td>4308.84</td>\n",
       "      <td>2844.69</td>\n",
       "      <td>3861.63</td>\n",
       "      <td>3224.81</td>\n",
       "      <td>3107.77</td>\n",
       "      <td>3565.67</td>\n",
       "      <td>5207.03</td>\n",
       "      <td>5952.15</td>\n",
       "    </tr>\n",
       "    <tr>\n",
       "      <th>1967</th>\n",
       "      <td>4649.06</td>\n",
       "      <td>4011.71</td>\n",
       "      <td>4284.88</td>\n",
       "      <td>2607.35</td>\n",
       "      <td>4245.22</td>\n",
       "      <td>2689.38</td>\n",
       "      <td>3887.99</td>\n",
       "      <td>3403.85</td>\n",
       "      <td>3155.43</td>\n",
       "      <td>3484.81</td>\n",
       "      <td>5392.71</td>\n",
       "      <td>6254.62</td>\n",
       "    </tr>\n",
       "    <tr>\n",
       "      <th>1968</th>\n",
       "      <td>4331.84</td>\n",
       "      <td>3831.36</td>\n",
       "      <td>4175.97</td>\n",
       "      <td>2370.83</td>\n",
       "      <td>3938.44</td>\n",
       "      <td>2220.64</td>\n",
       "      <td>3242.46</td>\n",
       "      <td>3021.52</td>\n",
       "      <td>2644.33</td>\n",
       "      <td>2866.87</td>\n",
       "      <td>4687.96</td>\n",
       "      <td>5496.40</td>\n",
       "    </tr>\n",
       "    <tr>\n",
       "      <th>1969</th>\n",
       "      <td>4075.72</td>\n",
       "      <td>3549.15</td>\n",
       "      <td>3979.23</td>\n",
       "      <td>2105.31</td>\n",
       "      <td>3603.98</td>\n",
       "      <td>2259.34</td>\n",
       "      <td>3126.04</td>\n",
       "      <td>2814.66</td>\n",
       "      <td>2892.45</td>\n",
       "      <td>2830.35</td>\n",
       "      <td>4606.75</td>\n",
       "      <td>5753.46</td>\n",
       "    </tr>\n",
       "    <tr>\n",
       "      <th>1970</th>\n",
       "      <td>4599.12</td>\n",
       "      <td>3915.33</td>\n",
       "      <td>4281.54</td>\n",
       "      <td>2269.27</td>\n",
       "      <td>3857.09</td>\n",
       "      <td>2777.45</td>\n",
       "      <td>3507.61</td>\n",
       "      <td>3042.14</td>\n",
       "      <td>3393.63</td>\n",
       "      <td>3025.78</td>\n",
       "      <td>4812.03</td>\n",
       "      <td>6006.45</td>\n",
       "    </tr>\n",
       "    <tr>\n",
       "      <th>1971</th>\n",
       "      <td>4114.69</td>\n",
       "      <td>3319.74</td>\n",
       "      <td>4047.24</td>\n",
       "      <td>1913.15</td>\n",
       "      <td>3445.72</td>\n",
       "      <td>2225.46</td>\n",
       "      <td>3060.85</td>\n",
       "      <td>2466.42</td>\n",
       "      <td>2889.11</td>\n",
       "      <td>2638.86</td>\n",
       "      <td>4456.26</td>\n",
       "      <td>5484.21</td>\n",
       "    </tr>\n",
       "    <tr>\n",
       "      <th>1972</th>\n",
       "      <td>4561.81</td>\n",
       "      <td>3865.44</td>\n",
       "      <td>4413.35</td>\n",
       "      <td>2170.27</td>\n",
       "      <td>3451.53</td>\n",
       "      <td>2327.33</td>\n",
       "      <td>3551.85</td>\n",
       "      <td>2811.17</td>\n",
       "      <td>3058.77</td>\n",
       "      <td>2750.59</td>\n",
       "      <td>4658.22</td>\n",
       "      <td>5500.51</td>\n",
       "    </tr>\n",
       "    <tr>\n",
       "      <th>1973</th>\n",
       "      <td>4317.39</td>\n",
       "      <td>3898.38</td>\n",
       "      <td>3898.38</td>\n",
       "      <td>2024.97</td>\n",
       "      <td>3518.92</td>\n",
       "      <td>2390.29</td>\n",
       "      <td>3095.97</td>\n",
       "      <td>2779.21</td>\n",
       "      <td>3009.62</td>\n",
       "      <td>2851.53</td>\n",
       "      <td>4441.94</td>\n",
       "      <td>5636.00</td>\n",
       "    </tr>\n",
       "    <tr>\n",
       "      <th>1974</th>\n",
       "      <td>4979.73</td>\n",
       "      <td>4311.30</td>\n",
       "      <td>4502.77</td>\n",
       "      <td>2345.87</td>\n",
       "      <td>4055.51</td>\n",
       "      <td>2485.57</td>\n",
       "      <td>3680.88</td>\n",
       "      <td>3612.40</td>\n",
       "      <td>3406.09</td>\n",
       "      <td>3188.77</td>\n",
       "      <td>4837.33</td>\n",
       "      <td>6185.90</td>\n",
       "    </tr>\n",
       "    <tr>\n",
       "      <th>1975</th>\n",
       "      <td>4383.13</td>\n",
       "      <td>3757.25</td>\n",
       "      <td>4221.12</td>\n",
       "      <td>1923.22</td>\n",
       "      <td>3354.38</td>\n",
       "      <td>2069.01</td>\n",
       "      <td>3125.35</td>\n",
       "      <td>2863.00</td>\n",
       "      <td>3211.25</td>\n",
       "      <td>2694.73</td>\n",
       "      <td>4610.56</td>\n",
       "      <td>5587.37</td>\n",
       "    </tr>\n",
       "    <tr>\n",
       "      <th>1976</th>\n",
       "      <td>4296.05</td>\n",
       "      <td>3734.34</td>\n",
       "      <td>3938.61</td>\n",
       "      <td>1870.05</td>\n",
       "      <td>3237.76</td>\n",
       "      <td>2309.84</td>\n",
       "      <td>3348.58</td>\n",
       "      <td>2615.51</td>\n",
       "      <td>3251.44</td>\n",
       "      <td>2885.21</td>\n",
       "      <td>4513.65</td>\n",
       "      <td>5662.55</td>\n",
       "    </tr>\n",
       "    <tr>\n",
       "      <th>1977</th>\n",
       "      <td>4781.36</td>\n",
       "      <td>4067.74</td>\n",
       "      <td>4609.16</td>\n",
       "      <td>2216.99</td>\n",
       "      <td>3651.40</td>\n",
       "      <td>3134.05</td>\n",
       "      <td>4205.97</td>\n",
       "      <td>3058.11</td>\n",
       "      <td>3320.84</td>\n",
       "      <td>3219.89</td>\n",
       "      <td>4912.56</td>\n",
       "      <td>6055.66</td>\n",
       "    </tr>\n",
       "    <tr>\n",
       "      <th>1978</th>\n",
       "      <td>4564.09</td>\n",
       "      <td>4031.16</td>\n",
       "      <td>4153.70</td>\n",
       "      <td>2220.06</td>\n",
       "      <td>3711.04</td>\n",
       "      <td>2792.49</td>\n",
       "      <td>3463.61</td>\n",
       "      <td>3212.17</td>\n",
       "      <td>3317.76</td>\n",
       "      <td>3030.12</td>\n",
       "      <td>4733.10</td>\n",
       "      <td>6121.55</td>\n",
       "    </tr>\n",
       "  </tbody>\n",
       "</table>\n",
       "</div>"
      ],
      "text/plain": [
       "          RPT      VAL      ROS      KIL      SHA      BIR      DUB      CLA  \\\n",
       "date                                                                           \n",
       "1961  4150.58  3470.45  3836.17  2327.79  3652.53  2589.83  3275.31  2952.87   \n",
       "1962  4443.47  3674.61  4240.60  2521.09  3870.60  2684.35  3997.61  3196.39   \n",
       "1963  4676.91  3955.50  4577.52  2675.47  4279.30  3078.67  4042.63  3772.84   \n",
       "1964  4525.10  3996.78  4430.20  2484.33  4192.34  2770.94  3754.85  3465.05   \n",
       "1965  4544.75  4042.57  4324.80  2503.34  4024.05  2729.51  3875.83  3241.17   \n",
       "1966  4913.62  4218.38  4387.53  2681.19  4308.84  2844.69  3861.63  3224.81   \n",
       "1967  4649.06  4011.71  4284.88  2607.35  4245.22  2689.38  3887.99  3403.85   \n",
       "1968  4331.84  3831.36  4175.97  2370.83  3938.44  2220.64  3242.46  3021.52   \n",
       "1969  4075.72  3549.15  3979.23  2105.31  3603.98  2259.34  3126.04  2814.66   \n",
       "1970  4599.12  3915.33  4281.54  2269.27  3857.09  2777.45  3507.61  3042.14   \n",
       "1971  4114.69  3319.74  4047.24  1913.15  3445.72  2225.46  3060.85  2466.42   \n",
       "1972  4561.81  3865.44  4413.35  2170.27  3451.53  2327.33  3551.85  2811.17   \n",
       "1973  4317.39  3898.38  3898.38  2024.97  3518.92  2390.29  3095.97  2779.21   \n",
       "1974  4979.73  4311.30  4502.77  2345.87  4055.51  2485.57  3680.88  3612.40   \n",
       "1975  4383.13  3757.25  4221.12  1923.22  3354.38  2069.01  3125.35  2863.00   \n",
       "1976  4296.05  3734.34  3938.61  1870.05  3237.76  2309.84  3348.58  2615.51   \n",
       "1977  4781.36  4067.74  4609.16  2216.99  3651.40  3134.05  4205.97  3058.11   \n",
       "1978  4564.09  4031.16  4153.70  2220.06  3711.04  2792.49  3463.61  3212.17   \n",
       "\n",
       "          MUL      CLO      BEL      MAL  \n",
       "date                                      \n",
       "1961  2914.46  3298.16  4512.33  4619.65  \n",
       "1962  3017.47  3509.16  4700.82  5198.84  \n",
       "1963  3249.81  3731.92  4978.19  5474.64  \n",
       "1964  2850.78  3736.11  5029.04  5457.17  \n",
       "1965  2886.21  3620.10  4731.95  5690.95  \n",
       "1966  3107.77  3565.67  5207.03  5952.15  \n",
       "1967  3155.43  3484.81  5392.71  6254.62  \n",
       "1968  2644.33  2866.87  4687.96  5496.40  \n",
       "1969  2892.45  2830.35  4606.75  5753.46  \n",
       "1970  3393.63  3025.78  4812.03  6006.45  \n",
       "1971  2889.11  2638.86  4456.26  5484.21  \n",
       "1972  3058.77  2750.59  4658.22  5500.51  \n",
       "1973  3009.62  2851.53  4441.94  5636.00  \n",
       "1974  3406.09  3188.77  4837.33  6185.90  \n",
       "1975  3211.25  2694.73  4610.56  5587.37  \n",
       "1976  3251.44  2885.21  4513.65  5662.55  \n",
       "1977  3320.84  3219.89  4912.56  6055.66  \n",
       "1978  3317.76  3030.12  4733.10  6121.55  "
      ]
     },
     "execution_count": 23,
     "metadata": {},
     "output_type": "execute_result"
    }
   ],
   "source": [
    "data.groupby(data['date'].dt.year).sum()"
   ]
  },
  {
   "cell_type": "code",
   "execution_count": 24,
   "id": "b96d2db3",
   "metadata": {},
   "outputs": [
    {
     "data": {
      "text/html": [
       "<div>\n",
       "<style scoped>\n",
       "    .dataframe tbody tr th:only-of-type {\n",
       "        vertical-align: middle;\n",
       "    }\n",
       "\n",
       "    .dataframe tbody tr th {\n",
       "        vertical-align: top;\n",
       "    }\n",
       "\n",
       "    .dataframe thead th {\n",
       "        text-align: right;\n",
       "    }\n",
       "</style>\n",
       "<table border=\"1\" class=\"dataframe\">\n",
       "  <thead>\n",
       "    <tr style=\"text-align: right;\">\n",
       "      <th></th>\n",
       "      <th></th>\n",
       "      <th>RPT</th>\n",
       "      <th>VAL</th>\n",
       "      <th>ROS</th>\n",
       "      <th>KIL</th>\n",
       "      <th>SHA</th>\n",
       "      <th>BIR</th>\n",
       "      <th>DUB</th>\n",
       "      <th>CLA</th>\n",
       "      <th>MUL</th>\n",
       "      <th>CLO</th>\n",
       "      <th>BEL</th>\n",
       "      <th>MAL</th>\n",
       "    </tr>\n",
       "    <tr>\n",
       "      <th>year</th>\n",
       "      <th>month</th>\n",
       "      <th></th>\n",
       "      <th></th>\n",
       "      <th></th>\n",
       "      <th></th>\n",
       "      <th></th>\n",
       "      <th></th>\n",
       "      <th></th>\n",
       "      <th></th>\n",
       "      <th></th>\n",
       "      <th></th>\n",
       "      <th></th>\n",
       "      <th></th>\n",
       "    </tr>\n",
       "  </thead>\n",
       "  <tbody>\n",
       "    <tr>\n",
       "      <th rowspan=\"5\" valign=\"top\">1961</th>\n",
       "      <th>1</th>\n",
       "      <td>377.16</td>\n",
       "      <td>291.86</td>\n",
       "      <td>336.97</td>\n",
       "      <td>177.84</td>\n",
       "      <td>273.24</td>\n",
       "      <td>212.53</td>\n",
       "      <td>270.48</td>\n",
       "      <td>225.44</td>\n",
       "      <td>216.41</td>\n",
       "      <td>246.75</td>\n",
       "      <td>345.02</td>\n",
       "      <td>372.88</td>\n",
       "    </tr>\n",
       "    <tr>\n",
       "      <th>2</th>\n",
       "      <td>426.45</td>\n",
       "      <td>390.97</td>\n",
       "      <td>376.22</td>\n",
       "      <td>240.31</td>\n",
       "      <td>358.23</td>\n",
       "      <td>283.00</td>\n",
       "      <td>308.57</td>\n",
       "      <td>305.40</td>\n",
       "      <td>305.46</td>\n",
       "      <td>328.29</td>\n",
       "      <td>472.29</td>\n",
       "      <td>397.82</td>\n",
       "    </tr>\n",
       "    <tr>\n",
       "      <th>3</th>\n",
       "      <td>287.82</td>\n",
       "      <td>299.63</td>\n",
       "      <td>281.34</td>\n",
       "      <td>191.72</td>\n",
       "      <td>277.17</td>\n",
       "      <td>231.66</td>\n",
       "      <td>245.93</td>\n",
       "      <td>251.89</td>\n",
       "      <td>272.70</td>\n",
       "      <td>296.72</td>\n",
       "      <td>433.79</td>\n",
       "      <td>416.31</td>\n",
       "    </tr>\n",
       "    <tr>\n",
       "      <th>4</th>\n",
       "      <td>321.68</td>\n",
       "      <td>282.83</td>\n",
       "      <td>299.94</td>\n",
       "      <td>174.92</td>\n",
       "      <td>253.05</td>\n",
       "      <td>194.85</td>\n",
       "      <td>207.76</td>\n",
       "      <td>212.84</td>\n",
       "      <td>220.27</td>\n",
       "      <td>217.11</td>\n",
       "      <td>334.42</td>\n",
       "      <td>308.35</td>\n",
       "    </tr>\n",
       "    <tr>\n",
       "      <th>5</th>\n",
       "      <td>280.69</td>\n",
       "      <td>237.88</td>\n",
       "      <td>295.10</td>\n",
       "      <td>167.79</td>\n",
       "      <td>265.45</td>\n",
       "      <td>185.75</td>\n",
       "      <td>214.08</td>\n",
       "      <td>229.79</td>\n",
       "      <td>227.38</td>\n",
       "      <td>238.97</td>\n",
       "      <td>333.54</td>\n",
       "      <td>333.53</td>\n",
       "    </tr>\n",
       "    <tr>\n",
       "      <th>...</th>\n",
       "      <th>...</th>\n",
       "      <td>...</td>\n",
       "      <td>...</td>\n",
       "      <td>...</td>\n",
       "      <td>...</td>\n",
       "      <td>...</td>\n",
       "      <td>...</td>\n",
       "      <td>...</td>\n",
       "      <td>...</td>\n",
       "      <td>...</td>\n",
       "      <td>...</td>\n",
       "      <td>...</td>\n",
       "      <td>...</td>\n",
       "    </tr>\n",
       "    <tr>\n",
       "      <th rowspan=\"5\" valign=\"top\">1978</th>\n",
       "      <th>8</th>\n",
       "      <td>299.00</td>\n",
       "      <td>256.04</td>\n",
       "      <td>280.00</td>\n",
       "      <td>139.59</td>\n",
       "      <td>228.41</td>\n",
       "      <td>183.99</td>\n",
       "      <td>175.16</td>\n",
       "      <td>167.95</td>\n",
       "      <td>224.48</td>\n",
       "      <td>171.64</td>\n",
       "      <td>324.47</td>\n",
       "      <td>373.68</td>\n",
       "    </tr>\n",
       "    <tr>\n",
       "      <th>9</th>\n",
       "      <td>327.41</td>\n",
       "      <td>326.85</td>\n",
       "      <td>319.05</td>\n",
       "      <td>171.75</td>\n",
       "      <td>311.16</td>\n",
       "      <td>278.35</td>\n",
       "      <td>323.71</td>\n",
       "      <td>287.49</td>\n",
       "      <td>302.08</td>\n",
       "      <td>268.17</td>\n",
       "      <td>470.41</td>\n",
       "      <td>581.74</td>\n",
       "    </tr>\n",
       "    <tr>\n",
       "      <th>10</th>\n",
       "      <td>306.83</td>\n",
       "      <td>268.80</td>\n",
       "      <td>288.17</td>\n",
       "      <td>146.36</td>\n",
       "      <td>264.28</td>\n",
       "      <td>210.00</td>\n",
       "      <td>251.58</td>\n",
       "      <td>227.47</td>\n",
       "      <td>257.23</td>\n",
       "      <td>255.56</td>\n",
       "      <td>427.08</td>\n",
       "      <td>531.65</td>\n",
       "    </tr>\n",
       "    <tr>\n",
       "      <th>11</th>\n",
       "      <td>484.55</td>\n",
       "      <td>444.08</td>\n",
       "      <td>405.24</td>\n",
       "      <td>219.52</td>\n",
       "      <td>344.25</td>\n",
       "      <td>262.29</td>\n",
       "      <td>344.77</td>\n",
       "      <td>289.72</td>\n",
       "      <td>321.04</td>\n",
       "      <td>320.28</td>\n",
       "      <td>522.14</td>\n",
       "      <td>621.69</td>\n",
       "    </tr>\n",
       "    <tr>\n",
       "      <th>12</th>\n",
       "      <td>501.44</td>\n",
       "      <td>426.19</td>\n",
       "      <td>484.69</td>\n",
       "      <td>219.94</td>\n",
       "      <td>353.36</td>\n",
       "      <td>286.49</td>\n",
       "      <td>374.40</td>\n",
       "      <td>316.04</td>\n",
       "      <td>329.12</td>\n",
       "      <td>341.89</td>\n",
       "      <td>429.65</td>\n",
       "      <td>662.52</td>\n",
       "    </tr>\n",
       "  </tbody>\n",
       "</table>\n",
       "<p>216 rows × 12 columns</p>\n",
       "</div>"
      ],
      "text/plain": [
       "               RPT     VAL     ROS     KIL     SHA     BIR     DUB     CLA  \\\n",
       "year month                                                                   \n",
       "1961 1      377.16  291.86  336.97  177.84  273.24  212.53  270.48  225.44   \n",
       "     2      426.45  390.97  376.22  240.31  358.23  283.00  308.57  305.40   \n",
       "     3      287.82  299.63  281.34  191.72  277.17  231.66  245.93  251.89   \n",
       "     4      321.68  282.83  299.94  174.92  253.05  194.85  207.76  212.84   \n",
       "     5      280.69  237.88  295.10  167.79  265.45  185.75  214.08  229.79   \n",
       "...            ...     ...     ...     ...     ...     ...     ...     ...   \n",
       "1978 8      299.00  256.04  280.00  139.59  228.41  183.99  175.16  167.95   \n",
       "     9      327.41  326.85  319.05  171.75  311.16  278.35  323.71  287.49   \n",
       "     10     306.83  268.80  288.17  146.36  264.28  210.00  251.58  227.47   \n",
       "     11     484.55  444.08  405.24  219.52  344.25  262.29  344.77  289.72   \n",
       "     12     501.44  426.19  484.69  219.94  353.36  286.49  374.40  316.04   \n",
       "\n",
       "               MUL     CLO     BEL     MAL  \n",
       "year month                                  \n",
       "1961 1      216.41  246.75  345.02  372.88  \n",
       "     2      305.46  328.29  472.29  397.82  \n",
       "     3      272.70  296.72  433.79  416.31  \n",
       "     4      220.27  217.11  334.42  308.35  \n",
       "     5      227.38  238.97  333.54  333.53  \n",
       "...            ...     ...     ...     ...  \n",
       "1978 8      224.48  171.64  324.47  373.68  \n",
       "     9      302.08  268.17  470.41  581.74  \n",
       "     10     257.23  255.56  427.08  531.65  \n",
       "     11     321.04  320.28  522.14  621.69  \n",
       "     12     329.12  341.89  429.65  662.52  \n",
       "\n",
       "[216 rows x 12 columns]"
      ]
     },
     "execution_count": 24,
     "metadata": {},
     "output_type": "execute_result"
    }
   ],
   "source": [
    "datasample = data\n",
    "datasample.groupby([data['date'].dt.year.rename('year'),data['date'].dt.month.rename('month')]).sum()"
   ]
  },
  {
   "cell_type": "code",
   "execution_count": null,
   "id": "9b1bad10",
   "metadata": {},
   "outputs": [],
   "source": []
  },
  {
   "cell_type": "markdown",
   "id": "a0b247f7",
   "metadata": {},
   "source": [
    "# Question 5"
   ]
  },
  {
   "cell_type": "code",
   "execution_count": 25,
   "id": "d330f64c",
   "metadata": {},
   "outputs": [],
   "source": [
    "import pandas as pd\n",
    "import numpy as np"
   ]
  },
  {
   "cell_type": "code",
   "execution_count": 26,
   "id": "927012c0",
   "metadata": {},
   "outputs": [],
   "source": [
    "url = pd.read_csv(r'https://raw.githubusercontent.com/justmarkham/DAT8/master/data/chipotle.tsv', sep= '\\t')"
   ]
  },
  {
   "cell_type": "code",
   "execution_count": 27,
   "id": "fc644a38",
   "metadata": {},
   "outputs": [],
   "source": [
    "chipo = url"
   ]
  },
  {
   "cell_type": "code",
   "execution_count": 28,
   "id": "25f4d029",
   "metadata": {},
   "outputs": [
    {
     "data": {
      "text/html": [
       "<div>\n",
       "<style scoped>\n",
       "    .dataframe tbody tr th:only-of-type {\n",
       "        vertical-align: middle;\n",
       "    }\n",
       "\n",
       "    .dataframe tbody tr th {\n",
       "        vertical-align: top;\n",
       "    }\n",
       "\n",
       "    .dataframe thead th {\n",
       "        text-align: right;\n",
       "    }\n",
       "</style>\n",
       "<table border=\"1\" class=\"dataframe\">\n",
       "  <thead>\n",
       "    <tr style=\"text-align: right;\">\n",
       "      <th></th>\n",
       "      <th>order_id</th>\n",
       "      <th>quantity</th>\n",
       "      <th>item_name</th>\n",
       "      <th>choice_description</th>\n",
       "      <th>item_price</th>\n",
       "    </tr>\n",
       "  </thead>\n",
       "  <tbody>\n",
       "    <tr>\n",
       "      <th>0</th>\n",
       "      <td>1</td>\n",
       "      <td>1</td>\n",
       "      <td>Chips and Fresh Tomato Salsa</td>\n",
       "      <td>NaN</td>\n",
       "      <td>$2.39</td>\n",
       "    </tr>\n",
       "    <tr>\n",
       "      <th>1</th>\n",
       "      <td>1</td>\n",
       "      <td>1</td>\n",
       "      <td>Izze</td>\n",
       "      <td>[Clementine]</td>\n",
       "      <td>$3.39</td>\n",
       "    </tr>\n",
       "    <tr>\n",
       "      <th>2</th>\n",
       "      <td>1</td>\n",
       "      <td>1</td>\n",
       "      <td>Nantucket Nectar</td>\n",
       "      <td>[Apple]</td>\n",
       "      <td>$3.39</td>\n",
       "    </tr>\n",
       "    <tr>\n",
       "      <th>3</th>\n",
       "      <td>1</td>\n",
       "      <td>1</td>\n",
       "      <td>Chips and Tomatillo-Green Chili Salsa</td>\n",
       "      <td>NaN</td>\n",
       "      <td>$2.39</td>\n",
       "    </tr>\n",
       "    <tr>\n",
       "      <th>4</th>\n",
       "      <td>2</td>\n",
       "      <td>2</td>\n",
       "      <td>Chicken Bowl</td>\n",
       "      <td>[Tomatillo-Red Chili Salsa (Hot), [Black Beans...</td>\n",
       "      <td>$16.98</td>\n",
       "    </tr>\n",
       "    <tr>\n",
       "      <th>5</th>\n",
       "      <td>3</td>\n",
       "      <td>1</td>\n",
       "      <td>Chicken Bowl</td>\n",
       "      <td>[Fresh Tomato Salsa (Mild), [Rice, Cheese, Sou...</td>\n",
       "      <td>$10.98</td>\n",
       "    </tr>\n",
       "    <tr>\n",
       "      <th>6</th>\n",
       "      <td>3</td>\n",
       "      <td>1</td>\n",
       "      <td>Side of Chips</td>\n",
       "      <td>NaN</td>\n",
       "      <td>$1.69</td>\n",
       "    </tr>\n",
       "    <tr>\n",
       "      <th>7</th>\n",
       "      <td>4</td>\n",
       "      <td>1</td>\n",
       "      <td>Steak Burrito</td>\n",
       "      <td>[Tomatillo Red Chili Salsa, [Fajita Vegetables...</td>\n",
       "      <td>$11.75</td>\n",
       "    </tr>\n",
       "    <tr>\n",
       "      <th>8</th>\n",
       "      <td>4</td>\n",
       "      <td>1</td>\n",
       "      <td>Steak Soft Tacos</td>\n",
       "      <td>[Tomatillo Green Chili Salsa, [Pinto Beans, Ch...</td>\n",
       "      <td>$9.25</td>\n",
       "    </tr>\n",
       "    <tr>\n",
       "      <th>9</th>\n",
       "      <td>5</td>\n",
       "      <td>1</td>\n",
       "      <td>Steak Burrito</td>\n",
       "      <td>[Fresh Tomato Salsa, [Rice, Black Beans, Pinto...</td>\n",
       "      <td>$9.25</td>\n",
       "    </tr>\n",
       "  </tbody>\n",
       "</table>\n",
       "</div>"
      ],
      "text/plain": [
       "   order_id  quantity                              item_name  \\\n",
       "0         1         1           Chips and Fresh Tomato Salsa   \n",
       "1         1         1                                   Izze   \n",
       "2         1         1                       Nantucket Nectar   \n",
       "3         1         1  Chips and Tomatillo-Green Chili Salsa   \n",
       "4         2         2                           Chicken Bowl   \n",
       "5         3         1                           Chicken Bowl   \n",
       "6         3         1                          Side of Chips   \n",
       "7         4         1                          Steak Burrito   \n",
       "8         4         1                       Steak Soft Tacos   \n",
       "9         5         1                          Steak Burrito   \n",
       "\n",
       "                                  choice_description item_price  \n",
       "0                                                NaN     $2.39   \n",
       "1                                       [Clementine]     $3.39   \n",
       "2                                            [Apple]     $3.39   \n",
       "3                                                NaN     $2.39   \n",
       "4  [Tomatillo-Red Chili Salsa (Hot), [Black Beans...    $16.98   \n",
       "5  [Fresh Tomato Salsa (Mild), [Rice, Cheese, Sou...    $10.98   \n",
       "6                                                NaN     $1.69   \n",
       "7  [Tomatillo Red Chili Salsa, [Fajita Vegetables...    $11.75   \n",
       "8  [Tomatillo Green Chili Salsa, [Pinto Beans, Ch...     $9.25   \n",
       "9  [Fresh Tomato Salsa, [Rice, Black Beans, Pinto...     $9.25   "
      ]
     },
     "execution_count": 28,
     "metadata": {},
     "output_type": "execute_result"
    }
   ],
   "source": [
    "chipo.head(10)"
   ]
  },
  {
   "cell_type": "code",
   "execution_count": 29,
   "id": "5d24809b",
   "metadata": {},
   "outputs": [
    {
     "data": {
      "text/plain": [
       "4622"
      ]
     },
     "execution_count": 29,
     "metadata": {},
     "output_type": "execute_result"
    }
   ],
   "source": [
    "chipo.shape[0]"
   ]
  },
  {
   "cell_type": "code",
   "execution_count": 30,
   "id": "6c4f1253",
   "metadata": {},
   "outputs": [
    {
     "data": {
      "text/plain": [
       "5"
      ]
     },
     "execution_count": 30,
     "metadata": {},
     "output_type": "execute_result"
    }
   ],
   "source": [
    "chipo.shape[1]"
   ]
  },
  {
   "cell_type": "code",
   "execution_count": 31,
   "id": "c6d914a5",
   "metadata": {},
   "outputs": [
    {
     "data": {
      "text/plain": [
       "Index(['order_id', 'quantity', 'item_name', 'choice_description',\n",
       "       'item_price'],\n",
       "      dtype='object')"
      ]
     },
     "execution_count": 31,
     "metadata": {},
     "output_type": "execute_result"
    }
   ],
   "source": [
    "chipo.columns"
   ]
  },
  {
   "cell_type": "code",
   "execution_count": 32,
   "id": "449703ca",
   "metadata": {},
   "outputs": [
    {
     "data": {
      "text/plain": [
       "RangeIndex(start=0, stop=4622, step=1)"
      ]
     },
     "execution_count": 32,
     "metadata": {},
     "output_type": "execute_result"
    }
   ],
   "source": [
    "chipo.index"
   ]
  },
  {
   "cell_type": "code",
   "execution_count": 33,
   "id": "49539910",
   "metadata": {},
   "outputs": [
    {
     "data": {
      "text/plain": [
       "Chicken Bowl                             726\n",
       "Chicken Burrito                          553\n",
       "Chips and Guacamole                      479\n",
       "Steak Burrito                            368\n",
       "Canned Soft Drink                        301\n",
       "Steak Bowl                               211\n",
       "Chips                                    211\n",
       "Bottled Water                            162\n",
       "Chicken Soft Tacos                       115\n",
       "Chips and Fresh Tomato Salsa             110\n",
       "Chicken Salad Bowl                       110\n",
       "Canned Soda                              104\n",
       "Side of Chips                            101\n",
       "Veggie Burrito                            95\n",
       "Barbacoa Burrito                          91\n",
       "Veggie Bowl                               85\n",
       "Carnitas Bowl                             68\n",
       "Barbacoa Bowl                             66\n",
       "Carnitas Burrito                          59\n",
       "Steak Soft Tacos                          55\n",
       "6 Pack Soft Drink                         54\n",
       "Chips and Tomatillo Red Chili Salsa       48\n",
       "Chicken Crispy Tacos                      47\n",
       "Chips and Tomatillo Green Chili Salsa     43\n",
       "Carnitas Soft Tacos                       40\n",
       "Steak Crispy Tacos                        35\n",
       "Chips and Tomatillo-Green Chili Salsa     31\n",
       "Steak Salad Bowl                          29\n",
       "Nantucket Nectar                          27\n",
       "Barbacoa Soft Tacos                       25\n",
       "Chips and Roasted Chili Corn Salsa        22\n",
       "Izze                                      20\n",
       "Chips and Tomatillo-Red Chili Salsa       20\n",
       "Veggie Salad Bowl                         18\n",
       "Chips and Roasted Chili-Corn Salsa        18\n",
       "Barbacoa Crispy Tacos                     11\n",
       "Barbacoa Salad Bowl                       10\n",
       "Chicken Salad                              9\n",
       "Veggie Soft Tacos                          7\n",
       "Carnitas Crispy Tacos                      7\n",
       "Veggie Salad                               6\n",
       "Carnitas Salad Bowl                        6\n",
       "Burrito                                    6\n",
       "Steak Salad                                4\n",
       "Crispy Tacos                               2\n",
       "Salad                                      2\n",
       "Bowl                                       2\n",
       "Chips and Mild Fresh Tomato Salsa          1\n",
       "Veggie Crispy Tacos                        1\n",
       "Carnitas Salad                             1\n",
       "Name: item_name, dtype: int64"
      ]
     },
     "execution_count": 33,
     "metadata": {},
     "output_type": "execute_result"
    }
   ],
   "source": [
    "chipo['item_name'].value_counts()"
   ]
  },
  {
   "cell_type": "code",
   "execution_count": 34,
   "id": "08a38c18",
   "metadata": {},
   "outputs": [
    {
     "data": {
      "text/plain": [
       "[Diet Coke]                                                                                                                                      134\n",
       "[Coke]                                                                                                                                           123\n",
       "[Sprite]                                                                                                                                          77\n",
       "[Fresh Tomato Salsa, [Rice, Black Beans, Cheese, Sour Cream, Lettuce]]                                                                            42\n",
       "[Fresh Tomato Salsa, [Rice, Black Beans, Cheese, Sour Cream, Guacamole, Lettuce]]                                                                 40\n",
       "                                                                                                                                                ... \n",
       "[Fresh Tomato Salsa (Mild), [Pinto Beans, Black Beans, Rice, Cheese, Sour Cream, Lettuce]]                                                         1\n",
       "[[Fresh Tomato Salsa (Mild), Roasted Chili Corn Salsa (Medium), Tomatillo-Red Chili Salsa (Hot)], [Pinto Beans, Cheese, Sour Cream, Lettuce]]      1\n",
       "[Fresh Tomato (Mild), [Guacamole, Rice, Black Beans]]                                                                                              1\n",
       "[[Tomatillo-Green Chili Salsa (Medium), Tomatillo-Red Chili Salsa (Hot)], [Black Beans, Rice, Cheese, Lettuce]]                                    1\n",
       "[Tomatillo Green Chili Salsa, [Rice, Fajita Vegetables, Black Beans, Guacamole]]                                                                   1\n",
       "Name: choice_description, Length: 1043, dtype: int64"
      ]
     },
     "execution_count": 34,
     "metadata": {},
     "output_type": "execute_result"
    }
   ],
   "source": [
    "chipo['choice_description'].value_counts()"
   ]
  },
  {
   "cell_type": "code",
   "execution_count": 35,
   "id": "3d4546ed",
   "metadata": {},
   "outputs": [
    {
     "data": {
      "text/plain": [
       "4972"
      ]
     },
     "execution_count": 35,
     "metadata": {},
     "output_type": "execute_result"
    }
   ],
   "source": [
    "chipo['quantity'].sum()"
   ]
  },
  {
   "cell_type": "code",
   "execution_count": 36,
   "id": "343a027c",
   "metadata": {},
   "outputs": [
    {
     "data": {
      "text/plain": [
       "order_id                int64\n",
       "quantity                int64\n",
       "item_name              object\n",
       "choice_description     object\n",
       "item_price            float64\n",
       "dtype: object"
      ]
     },
     "execution_count": 36,
     "metadata": {},
     "output_type": "execute_result"
    }
   ],
   "source": [
    "\n",
    "temp_Chipo = chipo.copy()\n",
    "temp_Chipo['item_price'] = temp_Chipo['item_price'].str[1:]\n",
    "temp_Chipo.astype({'item_price':'float64'}).dtypes"
   ]
  },
  {
   "cell_type": "code",
   "execution_count": 37,
   "id": "d7c3e17d",
   "metadata": {},
   "outputs": [
    {
     "data": {
      "text/plain": [
       "order_id                int64\n",
       "quantity                int64\n",
       "item_name              object\n",
       "choice_description     object\n",
       "item_price            float64\n",
       "dtype: object"
      ]
     },
     "execution_count": 37,
     "metadata": {},
     "output_type": "execute_result"
    }
   ],
   "source": [
    "# • Create a lambda function and change the type of item price\n",
    "# • Check the item price type\n",
    "temp_chipo1 = chipo.copy()\n",
    "temp_chipo1['item_price'] = temp_chipo1['item_price'].apply(lambda x: float(x[1:]))\n",
    "temp_chipo1.dtypes"
   ]
  },
  {
   "cell_type": "code",
   "execution_count": 38,
   "id": "f6b3e35d",
   "metadata": {},
   "outputs": [],
   "source": [
    "chipo['item_price'] = chipo['item_price'].apply(lambda x: float(x[1:]))\n",
    "chipo['revenue_per_order'] = chipo['quantity'] * chipo['item_price']"
   ]
  },
  {
   "cell_type": "code",
   "execution_count": 39,
   "id": "16d634c1",
   "metadata": {},
   "outputs": [
    {
     "data": {
      "text/plain": [
       "39237.02"
      ]
     },
     "execution_count": 39,
     "metadata": {},
     "output_type": "execute_result"
    }
   ],
   "source": [
    "total_Revenue = chipo['revenue_per_order'].sum()\n",
    "total_Revenue"
   ]
  },
  {
   "cell_type": "code",
   "execution_count": 40,
   "id": "3855e084",
   "metadata": {},
   "outputs": [
    {
     "data": {
      "text/plain": [
       "50"
      ]
     },
     "execution_count": 40,
     "metadata": {},
     "output_type": "execute_result"
    }
   ],
   "source": [
    "chipo['item_name'].nunique()"
   ]
  },
  {
   "cell_type": "code",
   "execution_count": null,
   "id": "13d8fad5",
   "metadata": {},
   "outputs": [],
   "source": []
  },
  {
   "cell_type": "markdown",
   "id": "4daf44a7",
   "metadata": {},
   "source": [
    "# Question 6"
   ]
  },
  {
   "cell_type": "code",
   "execution_count": 41,
   "id": "51d23e3a",
   "metadata": {},
   "outputs": [
    {
     "data": {
      "text/plain": [
       "<matplotlib.legend.Legend at 0x1dbcc63ab80>"
      ]
     },
     "execution_count": 41,
     "metadata": {},
     "output_type": "execute_result"
    },
    {
     "data": {
      "image/png": "[encoded data removed]",
      "text/plain": [
       "<Figure size 432x288 with 1 Axes>"
      ]
     },
     "metadata": {
      "needs_background": "light"
     },
     "output_type": "display_data"
    }
   ],
   "source": [
    "import numpy as np\n",
    "import pandas as pd\n",
    "import os\n",
    "import matplotlib.pyplot as plts\n",
    "\n",
    "us_marriage_divorce_data = pd.read_csv('us-marriages-divorces-1867-2014.csv')\n",
    "\n",
    "plts.plot(us_marriage_divorce_data['Year'], us_marriage_divorce_data['Marriages_per_1000'], color='blue', label='Marriages')\n",
    "plts.plot(us_marriage_divorce_data['Year'], us_marriage_divorce_data['Divorces_per_1000'],color='yellow', label='Divorces')\n",
    "plts.xlabel('Date')\n",
    "plts.ylabel('Number of cases')\n",
    "plts.title('Marriages and Divorces per capita')\n",
    "plts.grid(True)\n",
    "plts.legend()"
   ]
  },
  {
   "cell_type": "code",
   "execution_count": null,
   "id": "73eed17e",
   "metadata": {},
   "outputs": [],
   "source": []
  },
  {
   "cell_type": "markdown",
   "id": "022d2104",
   "metadata": {},
   "source": [
    "# Question 7"
   ]
  },
  {
   "cell_type": "code",
   "execution_count": 42,
   "id": "8e533cf7",
   "metadata": {},
   "outputs": [
    {
     "data": {
      "text/plain": [
       "Text(0.5, 1.0, 'US Marriages & Divorces')"
      ]
     },
     "execution_count": 42,
     "metadata": {},
     "output_type": "execute_result"
    },
    {
     "data": {
      "image/png": "[encoded data removed]",
      "text/plain": [
       "<Figure size 432x288 with 1 Axes>"
      ]
     },
     "metadata": {
      "needs_background": "light"
     },
     "output_type": "display_data"
    }
   ],
   "source": [
    "import numpy as np\n",
    "import pandas as pd\n",
    "import matplotlib.pyplot as plt\n",
    "\n",
    "us_marriage = pd.read_csv('us-marriages-divorces-1867-2014.csv')\n",
    "new_us_marriage = us_marriage[(us_marriage.Year == 1900) | (us_marriage.Year == 1950) | (us_marriage.Year == 2000)]\n",
    "new_us_marriage = new_us_marriage.drop(columns = ['Marriages', 'Divorces', 'Population'])\n",
    "new_us_marriage = new_us_marriage.set_index('Year')\n",
    "new_us_marriage.plot.bar()\n",
    "plt.xlabel('Year')\n",
    "plt.ylabel('Number')\n",
    "plt.title('US Marriages & Divorces')"
   ]
  },
  {
   "cell_type": "code",
   "execution_count": null,
   "id": "2f0101b3",
   "metadata": {},
   "outputs": [],
   "source": []
  },
  {
   "cell_type": "markdown",
   "id": "65467628",
   "metadata": {},
   "source": [
    "# Question 8"
   ]
  },
  {
   "cell_type": "code",
   "execution_count": 43,
   "id": "9cc4a6a4",
   "metadata": {},
   "outputs": [
    {
     "data": {
      "image/png": "[encoded data removed]",
      "text/plain": [
       "<Figure size 432x288 with 1 Axes>"
      ]
     },
     "metadata": {
      "needs_background": "light"
     },
     "output_type": "display_data"
    }
   ],
   "source": [
    "import numpy as np\n",
    "import pandas as pd\n",
    "import matplotlib.pyplot as plt\n",
    "\n",
    "actor_kill = pd.read_csv('actor_kill_counts.csv')\n",
    "actor_kill = actor_kill.sort_values(by=\"Count\")\n",
    "\n",
    "\n",
    "plt.barh(actor_kill['Actor'], actor_kill['Count'],  color='orange', label='Kill')\n",
    "plt.xlabel('Kills')\n",
    "plt.ylabel('Name of Actors')\n",
    "plt.title('Actors by their kill count')\n",
    "plt.legend()\n",
    "plt.show()"
   ]
  },
  {
   "cell_type": "code",
   "execution_count": null,
   "id": "c3ccf80b",
   "metadata": {},
   "outputs": [],
   "source": []
  },
  {
   "cell_type": "markdown",
   "id": "6ae8a4c9",
   "metadata": {},
   "source": [
    "# Question 9"
   ]
  },
  {
   "cell_type": "code",
   "execution_count": 44,
   "id": "be4ffeb8",
   "metadata": {},
   "outputs": [
    {
     "data": {
      "image/png": "[encoded data removed]",
      "text/plain": [
       "<Figure size 432x288 with 1 Axes>"
      ]
     },
     "metadata": {},
     "output_type": "display_data"
    }
   ],
   "source": [
    "import numpy as np\n",
    "import pandas as pd\n",
    "import matplotlib.pyplot as plt\n",
    "\n",
    "roman_emperor_reigns = pd.read_csv('roman-emperor-reigns.csv')\n",
    "cause_Ofdeath = roman_emperor_reigns.groupby('Cause_of_Death').count()[['Emperor']]\n",
    "cause_Ofdeath\n",
    "emperor = pd.Series(cause_Ofdeath['Emperor'])\n",
    "cause_death = pd.Series(cause_Ofdeath.index)\n",
    "explode = (0.1,0,0,0,0,0,0,0)\n",
    "fig2, ax2 = plt.subplots()\n",
    "ax2.pie(emperor, explode=explode, labels=cause_death,autopct='%1.1f%%', shadow=False, startangle=90)\n",
    "ax2.axis('equal')\n",
    "plt.title('Cause of Death - Roman Emperors')\n",
    "plt.show()"
   ]
  },
  {
   "cell_type": "code",
   "execution_count": null,
   "id": "4b7e36a5",
   "metadata": {},
   "outputs": [],
   "source": []
  },
  {
   "cell_type": "markdown",
   "id": "70431ead",
   "metadata": {},
   "source": [
    "# Question 10"
   ]
  },
  {
   "cell_type": "code",
   "execution_count": 46,
   "id": "226a49af",
   "metadata": {},
   "outputs": [
    {
     "data": {
      "text/plain": [
       "Text(0.5, 1.0, 'Scatter chart relationship between the revenue and the number of PhDs awarded in the U.S.')"
      ]
     },
     "execution_count": 46,
     "metadata": {},
     "output_type": "execute_result"
    },
    {
     "data": {
      "image/png": "[encoded data removed]",
      "text/plain": [
       "<Figure size 432x288 with 1 Axes>"
      ]
     },
     "metadata": {
      "needs_background": "light"
     },
     "output_type": "display_data"
    }
   ],
   "source": [
    "\n",
    "import seaborn as sb\n",
    "earned_Mony = pd.read_csv('arcade-revenue-vs-cs-doctorates.csv')\n",
    "earned_Mony = earned_Mony.rename(columns={'Total Arcade Revenue (billions)': 'Total_Arcade_Revenue_billions', 'Computer Science Doctorates Awarded (US)': 'Computer_Science_Doctorates_Awarded_US'})\n",
    "\n",
    "axis = sb.scatterplot(x='Total_Arcade_Revenue_billions', y='Computer_Science_Doctorates_Awarded_US', hue=\"Year\", data=earned_Money)\n",
    "axis.set_title('Scatter chart relationship between the revenue and the number of PhDs awarded in the U.S.')"
   ]
  },
  {
   "cell_type": "code",
   "execution_count": null,
   "id": "3d76bccc",
   "metadata": {},
   "outputs": [],
   "source": []
  }
 ],
 "metadata": {
  "kernelspec": {
   "display_name": "Python 3 (ipykernel)",
   "language": "python",
   "name": "python3"
  },
  "language_info": {
   "codemirror_mode": {
    "name": "ipython",
    "version": 3
   },
   "file_extension": ".py",
   "mimetype": "text/x-python",
   "name": "python",
   "nbconvert_exporter": "python",
   "pygments_lexer": "ipython3",
   "version": "3.9.12"
  }
 },
 "nbformat": 4,
 "nbformat_minor": 5
}
